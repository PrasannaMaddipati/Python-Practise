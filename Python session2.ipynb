{
 "cells": [
  {
   "cell_type": "code",
   "execution_count": 1,
   "metadata": {},
   "outputs": [
    {
     "data": {
      "text/plain": [
       "15"
      ]
     },
     "execution_count": 1,
     "metadata": {},
     "output_type": "execute_result"
    }
   ],
   "source": [
    "'''Write a Python Program to implement your own myreduce() function \n",
    "    which works exactly likePython's built-in function reduce()\n",
    "'''\n",
    "from functools import reduce\n",
    "num=[1,2,3,4,5]\n",
    "def myreduce(l):\n",
    "    '''myreduce function to reduce all the numbers in the given list into a single number.'''\n",
    "    a,b = 0,0\n",
    "    for i in l:\n",
    "        a,b = a+b,i\n",
    "    return a+b\n",
    "myreduce(num)"
   ]
  },
  {
   "cell_type": "code",
   "execution_count": 2,
   "metadata": {},
   "outputs": [
    {
     "data": {
      "text/plain": [
       "[2, 4]"
      ]
     },
     "execution_count": 2,
     "metadata": {},
     "output_type": "execute_result"
    }
   ],
   "source": [
    "'''Write a Python program to implement your own myfilter() function \n",
    "which works exactly likePython's built-in function filter()\n",
    "'''\n",
    "num=[1,2,3,4,5]\n",
    "\n",
    "def myfilter(l):\n",
    "    '''myfilter function to filter out even numbers from the given list.'''\n",
    "    a=[]\n",
    "    for i in l:\n",
    "        if i%2==0:\n",
    "            a.append(i)\n",
    "    return a\n",
    "myfilter(num)"
   ]
  },
  {
   "cell_type": "code",
   "execution_count": 19,
   "metadata": {},
   "outputs": [
    {
     "name": "stdout",
     "output_type": "stream",
     "text": [
      "['A', 'C', 'A', 'D', 'G', 'I', 'L', 'D']\n",
      "['x', 'xx', 'xxx', 'xxxx', 'y', 'yy', 'yyy', 'yyyy', 'z', 'zz', 'zzz', 'zzzz']\n",
      "['x', 'y', 'z', 'xx', 'yy', 'zz', 'xxx', 'yyy', 'zzz', 'xxxx', 'yyyy', 'zzzz']\n"
     ]
    }
   ],
   "source": [
    "'''Implement List comprehensions to produce the following lists.\n",
    "Write List comprehensions to produce the following Lists\n",
    "['A', 'C', 'A', 'D', 'G', 'I', ’L’, ‘ D’]\n",
    "['x', 'xx', 'xxx', 'xxxx', 'y', 'yy', 'yyy', 'yyyy', 'z', 'zz', 'zzz', 'zzzz']\n",
    "['x', 'y', 'z', 'xx', 'yy', 'zz', 'xx', 'yy', 'zz', 'xxxx', 'yyyy', 'zzzz']\n",
    "'''\n",
    "\n",
    "print([i for i in 'ACADGILD'])\n",
    "print([i*j for j in ['x','y','z'] for i in range(1,5)])\n",
    "print([i*j for j in range(1,5) for i in ['x','y','z']])\n"
   ]
  },
  {
   "cell_type": "code",
   "execution_count": 53,
   "metadata": {},
   "outputs": [
    {
     "name": "stdout",
     "output_type": "stream",
     "text": [
      "[[2], [3], [4], [3], [4], [5], [4], [5], [6]]\n",
      "[[2, 3, 4, 5], [3, 4, 5, 6], [4, 5, 6, 7], [5, 6, 7, 8]]\n",
      "[(1, 1), (2, 1), (3, 1), (1, 2), (2, 2), (3, 2), (1, 3), (2, 3), (3, 3)]\n"
     ]
    }
   ],
   "source": [
    "'''\n",
    "[[2], [3], [4], [3], [4], [5], [4], [5], [6]]\n",
    "[[2, 3, 4, 5], [3, 4, 5, 6], [4, 5, 6, 7], [5, 6, 7, 8]]\n",
    "[(1, 1), (2, 1), (3, 1), (1, 2), (2, 2), (3, 2), (1, 3), (2, 3), (3, 3)]\n",
    "'''\n",
    "print([[i+j] for j in [0,1,2] for i in [2,3,4]])\n",
    "print([[i,i+1,i+2,i+3] for i in range(2,6)])\n",
    "print([(i,j) for j in [1,2,3] for i in [1,2,3]])"
   ]
  },
  {
   "cell_type": "code",
   "execution_count": 192,
   "metadata": {},
   "outputs": [
    {
     "name": "stdout",
     "output_type": "stream",
     "text": [
      "Enter your list of words (eg: cat dog) in this format :pc\n",
      "The word with the longest length is: p, and length is 2\n"
     ]
    }
   ],
   "source": [
    "'''Implement a function longestWord() that takes a list of words and returns the longest one.'''\n",
    "\n",
    "def longestWord():\n",
    "    l = input(\"Enter your list of words (eg: cat dog) in this format :\")\n",
    "    max1=len(l.split()[0])\n",
    "    temp = l[0]\n",
    "    for i in l.split():\n",
    "        if len(i)>max1:\n",
    "            max1 = len(i)\n",
    "            temp = i\n",
    "    print(f\"The word with the longest length is: {temp}, and length is {max1}\")\n",
    "    \n",
    "longestWord()"
   ]
  },
  {
   "cell_type": "code",
   "execution_count": 247,
   "metadata": {},
   "outputs": [
    {
     "data": {
      "text/plain": [
       "2.9047375096555625"
      ]
     },
     "execution_count": 247,
     "metadata": {},
     "output_type": "execute_result"
    }
   ],
   "source": [
    "'''Write a Python Program(with class concepts) \n",
    "to find the area of the triangle using the belowformula.\n",
    "area = (s*(s-a)*(s-b)*(s-c)) ** 0.5\n",
    "Function to take the length of the sides of triangle\n",
    "from user should be defined in the parentclass and \n",
    "function to calculate the area should be defined in subclass.\n",
    "'''\n",
    "\n",
    "class triangle_sides():\n",
    "    def __init__(self,a,b,c):\n",
    "        self.a = a\n",
    "        self.b = b\n",
    "        self.c = c\n",
    "        self.s = (self.a + self.b + self.c)/2\n",
    "        \n",
    "class triangle_area(triangle_sides):\n",
    "    def area(self):\n",
    "        area = (self.s*(self.s-self.a)*(self.s-self.b)*(self.s-self.c)) ** 0.5\n",
    "        return area\n",
    "\n",
    "A = triangle_area(2,3,4)\n",
    "A.area()\n",
    "    "
   ]
  },
  {
   "cell_type": "code",
   "execution_count": 212,
   "metadata": {},
   "outputs": [
    {
     "name": "stdout",
     "output_type": "stream",
     "text": [
      "My name is piichu, gender is F and age is 24\n"
     ]
    }
   ],
   "source": [
    "p = person('piichu','F',24)\n",
    "print(p)"
   ]
  },
  {
   "cell_type": "code",
   "execution_count": 188,
   "metadata": {},
   "outputs": [
    {
     "name": "stdout",
     "output_type": "stream",
     "text": [
      "Enter your list of words (eg: cat dog) in this format :the monk who sold his ferrari\n",
      "Enter an integer number: 3\n",
      "Words which are longer than 3 are\n"
     ]
    },
    {
     "data": {
      "text/plain": [
       "['monk', 'sold', 'ferrari']"
      ]
     },
     "execution_count": 188,
     "metadata": {},
     "output_type": "execute_result"
    }
   ],
   "source": [
    "'''Write a function filter_long_words() that takes a list of words and an integer n \n",
    "and returns the listof words that are longer than n.'''\n",
    "\n",
    "def filter_long_words():\n",
    "    l = input(\"Enter your list of words (eg: cat dog) in this format :\")\n",
    "    n = int(input(\"Enter an integer number: \"))\n",
    "    print(f\"Words which are longer than {n} are:\")\n",
    "    return [i for i in l.split() if len(i)>n]\n",
    "\n",
    "filter_long_words()"
   ]
  },
  {
   "cell_type": "code",
   "execution_count": 190,
   "metadata": {},
   "outputs": [
    {
     "name": "stdout",
     "output_type": "stream",
     "text": [
      "Enter your list of words (eg: cat dog) in this format :pc piichu words\n"
     ]
    },
    {
     "data": {
      "text/plain": [
       "[2, 6, 5]"
      ]
     },
     "execution_count": 190,
     "metadata": {},
     "output_type": "execute_result"
    }
   ],
   "source": [
    "''' Write a Python program using function concept that maps  \n",
    "    list of words into a list of integers representing the lengths of the corresponding words​.\n",
    "    Hint: ​If a list [ ab,cde,erty] is passed on to the python function output should come as [2,3,4]\n",
    "    Here 2,3 and 4 are the lengths of the words in the list.\n",
    "'''\n",
    "\n",
    "def word_length():\n",
    "    l = input(\"Enter your list of words (eg: cat dog) in this format :\")\n",
    "    return list(map(lambda x : len(x),l.split()))\n",
    "word_length()"
   ]
  },
  {
   "cell_type": "code",
   "execution_count": 186,
   "metadata": {},
   "outputs": [
    {
     "name": "stdout",
     "output_type": "stream",
     "text": [
      "Enter a single character: p\n"
     ]
    },
    {
     "data": {
      "text/plain": [
       "[False]"
      ]
     },
     "execution_count": 186,
     "metadata": {},
     "output_type": "execute_result"
    }
   ],
   "source": [
    "''' Write a Python function which takes a character (i.e. a string of length 1) \n",
    "    and returns True if it isa vowel, False otherwise.\n",
    "'''\n",
    "def is_vowel():\n",
    "    character = input(\"Enter a single character: \")\n",
    "    return [i in['a','e','i','o','u'] for i in character]\n",
    "is_vowel()"
   ]
  },
  {
   "cell_type": "code",
   "execution_count": null,
   "metadata": {},
   "outputs": [],
   "source": []
  }
 ],
 "metadata": {
  "kernelspec": {
   "display_name": "Python 3",
   "language": "python",
   "name": "python3"
  },
  "language_info": {
   "codemirror_mode": {
    "name": "ipython",
    "version": 3
   },
   "file_extension": ".py",
   "mimetype": "text/x-python",
   "name": "python",
   "nbconvert_exporter": "python",
   "pygments_lexer": "ipython3",
   "version": "3.8.5"
  }
 },
 "nbformat": 4,
 "nbformat_minor": 4
}
