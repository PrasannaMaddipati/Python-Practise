{
 "cells": [
  {
   "cell_type": "code",
   "execution_count": 1,
   "metadata": {
    "scrolled": true
   },
   "outputs": [
    {
     "name": "stdout",
     "output_type": "stream",
     "text": [
      "[2002, 2009, 2016, 2023, 2037, 2044, 2051, 2058, 2072, 2079, 2086, 2093, 2107, 2114, 2121, 2128, 2142, 2149, 2156, 2163, 2177, 2184, 2191, 2198, 2212, 2219, 2226, 2233, 2247, 2254, 2261, 2268, 2282, 2289, 2296, 2303, 2317, 2324, 2331, 2338, 2352, 2359, 2366, 2373, 2387, 2394, 2401, 2408, 2422, 2429, 2436, 2443, 2457, 2464, 2471, 2478, 2492, 2499, 2506, 2513, 2527, 2534, 2541, 2548, 2562, 2569, 2576, 2583, 2597, 2604, 2611, 2618, 2632, 2639, 2646, 2653, 2667, 2674, 2681, 2688, 2702, 2709, 2716, 2723, 2737, 2744, 2751, 2758, 2772, 2779, 2786, 2793, 2807, 2814, 2821, 2828, 2842, 2849, 2856, 2863, 2877, 2884, 2891, 2898, 2912, 2919, 2926, 2933, 2947, 2954, 2961, 2968, 2982, 2989, 2996, 3003, 3017, 3024, 3031, 3038, 3052, 3059, 3066, 3073, 3087, 3094, 3101, 3108, 3122, 3129, 3136, 3143, 3157, 3164, 3171, 3178, 3192, 3199]\n"
     ]
    }
   ],
   "source": [
    "'''Write a program which will find all such numbers which are divisible by 7 but are not a multipleof 5,\n",
    "between 2000 and 3200 (both included). \n",
    "The numbers obtained should be printed in a comma-separated sequence on a single line.'''\n",
    "\n",
    "a=[]\n",
    "for i in range(2000,3201):\n",
    "    if i%7==0 and i%5 != 0 :\n",
    "        a.append(str(i)\n",
    "print(','.join(a))  "
   ]
  },
  {
   "cell_type": "code",
   "execution_count": 2,
   "metadata": {},
   "outputs": [
    {
     "name": "stdout",
     "output_type": "stream",
     "text": [
      "Enter your first name: python\n",
      "Enter your last name: programming\n",
      "nohtyp gnimmargorp\n"
     ]
    }
   ],
   "source": [
    "''' Write a Python program to accept the user's first and last name \n",
    "and then getting them printed inthe the reverse order with a space between first name and last name.'''\n",
    "\n",
    "firstname = input(\"Enter your first name: \")\n",
    "lastname = input(\"Enter your last name: \")\n",
    "print(firstname[::-1]+' '+ lastname[::-1])"
   ]
  },
  {
   "cell_type": "code",
   "execution_count": 3,
   "metadata": {},
   "outputs": [
    {
     "data": {
      "application/javascript": [
       "\n",
       "        if (window._pyforest_update_imports_cell) { window._pyforest_update_imports_cell('import numpy as np'); }\n",
       "    "
      ],
      "text/plain": [
       "<IPython.core.display.Javascript object>"
      ]
     },
     "metadata": {},
     "output_type": "display_data"
    },
    {
     "name": "stdout",
     "output_type": "stream",
     "text": [
      " volume of sphere with diameter 12cm is 904.78 cubic cm.\n",
      " volume of sphere with diameter 12cm is 904.78 cubic cm.\n",
      " volume of sphere with diameter 12cm is 904.7786842338603 cubic cm.\n",
      " volume of sphere with diameter 12cm is 904.78 cubic cm.\n"
     ]
    }
   ],
   "source": [
    "'''Write a Python program to find the volume of a sphere with diameter 12 cm.\n",
    "Formula: V=4/3 * π * r3'''\n",
    "\n",
    "d=12\n",
    "volume = 4/3 * np.pi * (d/2)**3\n",
    "print(\" volume of sphere with diameter 12cm is {} cubic cm.\".format(round(volume,2)))\n",
    "print(\" volume of sphere with diameter 12cm is {:0.2f} cubic cm.\".format(volume))\n",
    "print(f\" volume of sphere with diameter 12cm is {volume} cubic cm.\")\n",
    "print(f\" volume of sphere with diameter 12cm is {volume:0.2f} cubic cm.\")"
   ]
  },
  {
   "cell_type": "code",
   "execution_count": 5,
   "metadata": {},
   "outputs": [
    {
     "name": "stdout",
     "output_type": "stream",
     "text": [
      "Enter your sequence of numbers seperated by commas: 12,35,79,567\n",
      "[12, 35, 79, 567]\n"
     ]
    }
   ],
   "source": [
    "'''Write a program which accepts a sequence of \n",
    "comma-separated numbers from console and generate a list.'''\n",
    "\n",
    "condition = input(\"Enter your sequence of numbers seperated by commas: \")\n",
    "a=[]\n",
    "for i in condition.split(sep=','):\n",
    "    a.append(int(i))\n",
    "print(a)"
   ]
  },
  {
   "cell_type": "code",
   "execution_count": 6,
   "metadata": {},
   "outputs": [
    {
     "name": "stdout",
     "output_type": "stream",
     "text": [
      "*\n",
      "**\n",
      "***\n",
      "****\n",
      "*****\n",
      "****\n",
      "***\n",
      "**\n",
      "*\n"
     ]
    }
   ],
   "source": [
    "'''Create the below pattern using nested for loop in Python.\n",
    "*\n",
    "* *\n",
    "* * *\n",
    "* * * *\n",
    "* * * * *\n",
    "* * * *\n",
    "* * *\n",
    "* *\n",
    "*'''\n",
    "\n",
    "for i in range(1,6):\n",
    "    print('*'*i)\n",
    "    if i ==5:\n",
    "        for j in range(4,0,-1):\n",
    "            print('*'*j)"
   ]
  },
  {
   "cell_type": "code",
   "execution_count": 7,
   "metadata": {},
   "outputs": [
    {
     "name": "stdout",
     "output_type": "stream",
     "text": [
      "Enter your word: python\n",
      "nohtyp\n"
     ]
    }
   ],
   "source": [
    "'''Write a Python program to reverse a word after accepting the input from the user.\n",
    "Sample Output:\n",
    "Input word: AcadGild\n",
    "Output: dilGdacA\n",
    "'''\n",
    "word = input(\"Enter your word: \")\n",
    "print(word[::-1])"
   ]
  },
  {
   "cell_type": "code",
   "execution_count": 9,
   "metadata": {},
   "outputs": [
    {
     "name": "stdout",
     "output_type": "stream",
     "text": [
      "WE, THE PEOPLE OF INDIA,\n",
      "\thaving solemnly resolved to constitute India into a  \n",
      "\t\tSOVEREIGN,SOCIALIST, SECULAR, DEMOCRATIC REPUBLIC \n",
      "\t\t\tand to secure to allits citizens\n"
     ]
    }
   ],
   "source": [
    "'''\n",
    "Write a Python Program to print the given string in the format specified in the ​sample output.\n",
    "WE, THE PEOPLE OF INDIA, having solemnly resolved to constitute India into a\n",
    "SOVEREIGN, SOCIALIST, SECULAR, DEMOCRATIC REPUBLIC and to secure to allits citizens\n",
    "\n",
    "Sample Output:\n",
    "WE, THE PEOPLE OF INDIA, \n",
    "    having solemnly resolved to constitute India into a \n",
    "        SOVEREIGN, SOCIALIST, SECULAR, DEMOCRATIC REPUBLIC  \n",
    "            and to secure to all its citizen\n",
    "'''\n",
    "\n",
    "\n",
    "string = \"WE, THE PEOPLE OF INDIA,\\n\\thaving solemnly resolved to constitute India into a  \\n\\t\\tSOVEREIGN,SOCIALIST, SECULAR, DEMOCRATIC REPUBLIC \\n\\t\\t\\tand to secure to allits citizens\"\n",
    "\n",
    "print(string)"
   ]
  },
  {
   "cell_type": "code",
   "execution_count": null,
   "metadata": {},
   "outputs": [],
   "source": []
  }
 ],
 "metadata": {
  "kernelspec": {
   "display_name": "Python 3",
   "language": "python",
   "name": "python3"
  },
  "language_info": {
   "codemirror_mode": {
    "name": "ipython",
    "version": 3
   },
   "file_extension": ".py",
   "mimetype": "text/x-python",
   "name": "python",
   "nbconvert_exporter": "python",
   "pygments_lexer": "ipython3",
   "version": "3.8.5"
  }
 },
 "nbformat": 4,
 "nbformat_minor": 4
}
