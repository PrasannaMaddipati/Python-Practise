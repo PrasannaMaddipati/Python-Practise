{
 "cells": [
  {
   "cell_type": "code",
   "execution_count": 1,
   "metadata": {},
   "outputs": [
    {
     "name": "stdout",
     "output_type": "stream",
     "text": [
      "5 divided by 4 is 1.25\n",
      "This function is successfully executed.\n"
     ]
    }
   ],
   "source": [
    "'''Write a function to compute 5/0 and use try/except to catch the exceptions.'''\n",
    "def division_of_5(x):\n",
    "    try:\n",
    "        ans = 5/x\n",
    "        print( f\"5 divided by {x} is {ans}\")\n",
    "    except ZeroDivisionError as e:\n",
    "        print(\"Enter any number other than zero.\")\n",
    "    else:\n",
    "        print(\"This function is successfully executed.\")\n",
    "\n",
    "division_of_5(4)"
   ]
  },
  {
   "cell_type": "code",
   "execution_count": 2,
   "metadata": {},
   "outputs": [
    {
     "data": {
      "text/plain": [
       "['Americans  play Baseball',\n",
       " 'Americans  play Cricket',\n",
       " 'Americans  watch Baseball',\n",
       " 'Americans  watch Cricket',\n",
       " 'Indians play Baseball',\n",
       " 'Indians play Cricket',\n",
       " 'Indians watch Baseball',\n",
       " 'Indians watch Cricket']"
      ]
     },
     "execution_count": 2,
     "metadata": {},
     "output_type": "execute_result"
    }
   ],
   "source": [
    "'''Implement a Python program to generate all sentences where \n",
    "subject is in [\"Americans\",\"Indians\"] and verb is in [\"Play\", \"watch\"] and \n",
    "the object is in [\"Baseball\",\"cricket\"].\n",
    "Hint: Subject,Verb and Object should be declared in the program as shown below.\n",
    "subjects=[\"Americans \",\"Indians\"]verbs=[\"play\",\"watch\"]objects=[\"Baseball\",\"Cricket\"]\n",
    "Output should come as below:\n",
    "Americans  play Baseball.\n",
    "Americans  play Cricket.\n",
    "Americans  watch Baseball.\n",
    "Americans  watch Cricket.\n",
    "Indians play Baseball.\n",
    "Indians play Cricket.\n",
    "Indians watch Baseball.\n",
    "Indians watch Cricket.\n",
    "'''\n",
    "\n",
    "subjects=[\"Americans \",\"Indians\"]\n",
    "verbs=[\"play\",\"watch\"]\n",
    "objects=[\"Baseball\",\"Cricket\"]\n",
    "[i+' '+j+' '+k for i in subjects for j in verbs for k in objects]"
   ]
  },
  {
   "cell_type": "code",
   "execution_count": 4,
   "metadata": {},
   "outputs": [
    {
     "name": "stdout",
     "output_type": "stream",
     "text": [
      "Enter the list of numbers : 5 6 8 9 \n",
      "Enter the number of columns in matrix: 4\n",
      "Matrix to be increasing or decreasing? (enter True of False): True\n"
     ]
    },
    {
     "data": {
      "application/javascript": [
       "\n",
       "        if (window._pyforest_update_imports_cell) { window._pyforest_update_imports_cell('import numpy as np'); }\n",
       "    "
      ],
      "text/plain": [
       "<IPython.core.display.Javascript object>"
      ]
     },
     "metadata": {},
     "output_type": "display_data"
    },
    {
     "name": "stdout",
     "output_type": "stream",
     "text": [
      "The Vandermode matrix for given list of numbers [5, 6, 8, 9] having 4 matrix columns is :\n"
     ]
    },
    {
     "data": {
      "text/plain": [
       "array([[  1,   5,  25, 125],\n",
       "       [  1,   6,  36, 216],\n",
       "       [  1,   8,  64, 512],\n",
       "       [  1,   9,  81, 729]])"
      ]
     },
     "execution_count": 4,
     "metadata": {},
     "output_type": "execute_result"
    }
   ],
   "source": [
    "'''Write a function so that the columns of the output matrix are powers of the input vector.\n",
    "The order of the powers is determined by the increasing boolean argument.\n",
    "Specifically, when increasing is False, \n",
    "the i-th output column is the input vector raised element-wise to the power of N - i - 1.\n",
    "HINT: Such a matrix with a geometric progression in each row is named for Alexandre-Theophile Vandermonde.\n",
    "'''\n",
    "\n",
    "def Vandermode_matrix(input_list,matrix_col,increasing = False):\n",
    "    if not increasing:\n",
    "        output_matrix = np.array([ x**(matrix_col - i-1) for x in input_list for i in range (matrix_col)]).reshape(len(input_list),matrix_col)\n",
    "    elif increasing:\n",
    "        output_matrix = np.array([ x**(i) for x in input_list for i in range (matrix_col)]).reshape(len(input_list),matrix_col)\n",
    "    print(f\"The Vandermode matrix for given list of numbers {input_list} having {matrix_col} matrix columns is :\")\n",
    "    return output_matrix\n",
    "\n",
    "    \n",
    "input_list = [int(item) for item in input(\"Enter the list of numbers : \").split()]\n",
    "matrix_col = int(input(\"Enter the number of columns in matrix: \"))\n",
    "increasing = input(\"Matrix to be increasing or decreasing? (enter True of False): \")\n",
    "Vandermode_matrix(input_list,matrix_col,increasing)\n",
    "    "
   ]
  },
  {
   "cell_type": "code",
   "execution_count": null,
   "metadata": {},
   "outputs": [],
   "source": []
  },
  {
   "cell_type": "code",
   "execution_count": null,
   "metadata": {},
   "outputs": [],
   "source": []
  }
 ],
 "metadata": {
  "kernelspec": {
   "display_name": "Python 3",
   "language": "python",
   "name": "python3"
  },
  "language_info": {
   "codemirror_mode": {
    "name": "ipython",
    "version": 3
   },
   "file_extension": ".py",
   "mimetype": "text/x-python",
   "name": "python",
   "nbconvert_exporter": "python",
   "pygments_lexer": "ipython3",
   "version": "3.8.5"
  }
 },
 "nbformat": 4,
 "nbformat_minor": 4
}
